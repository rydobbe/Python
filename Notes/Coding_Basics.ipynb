{
 "cells": [
  {
   "cell_type": "markdown",
   "metadata": {},
   "source": [
    "### <u>Review</u>\n",
    "**Array**\n",
    "- An array is a data structure consisting of a collection of elements, each identified by at least one array index or key. It is stored in such a way that the position of each element can be computed from its index tuple by a mathematical formula.\n",
    "\n",
    "**Tuple**\n",
    "- A tuple is a finite ordered list of elements. An n-tuple is a sequence of n elements, where n is a non-negative integer. There is only one 0-tuple, referred to as the empty tuple. An n-tuple is defined inductively using the construction of an ordered pair."
   ]
  }
 ],
 "metadata": {
  "interpreter": {
   "hash": "7e932dcf16f5e14e57fa773eff3ce53542d0b5ad5adca00e7b6047716d9e7d41"
  },
  "kernelspec": {
   "display_name": "Python 3.8.8 ('base')",
   "language": "python",
   "name": "python3"
  },
  "language_info": {
   "name": "python",
   "version": "3.8.8"
  },
  "orig_nbformat": 4
 },
 "nbformat": 4,
 "nbformat_minor": 2
}
