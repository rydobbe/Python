{
 "cells": [
  {
   "cell_type": "markdown",
   "metadata": {},
   "source": [
    "### Valid Data Types\n",
    "- string\n",
    "- number\n",
    "- object (JSON)\n",
    "- array\n",
    "- boolean\n",
    "- null\n",
    "\n",
    "### Invalid Data Types\n",
    "- function\n",
    "- date\n",
    "- undefined\n"
   ]
  },
  {
   "cell_type": "markdown",
   "metadata": {},
   "source": [
    "#### Examples\n",
    "**Arrays** ->\n",
    "{\n",
    "    \"employees\": [\"John\", \"Anna\", \"Peter\"]\n",
    "}\n",
    "\n",
    "**Booleans** ->\n",
    "{\n",
    "    \"sale\": true\n",
    "}\n",
    "\n",
    "**null** ->\n",
    "{\n",
    "    \"middlename\": null\n",
    "}"
   ]
  },
  {
   "cell_type": "markdown",
   "metadata": {},
   "source": [
    "---\n"
   ]
  },
  {
   "cell_type": "markdown",
   "metadata": {},
   "source": [
    "## Data exchange"
   ]
  },
  {
   "cell_type": "markdown",
   "metadata": {},
   "source": [
    "### Parsing\n",
    "- A common use of JSON is to exchange data to/from a web server. When receiving data from a web server, the data is always a string. Parse the data with JSON.parse() to convert the string into a Javascript object."
   ]
  },
  {
   "cell_type": "markdown",
   "metadata": {},
   "source": [
    "#### Example\n",
    "- Receiving Text\n",
    "{\"name\": \"John\", \"age\": 30, \"city\": \"New York\"}\n",
    "\n",
    "- To convert into Javascript object -->\n",
    "const obj = JSON.parse({\"name\": \"John\", \"age\": 30, \"city\": \"New York\"})"
   ]
  },
  {
   "cell_type": "markdown",
   "metadata": {},
   "source": [
    "### Stringify\n",
    "- When sending data to a web server, the data has to be a string. Convert a JavaScript object into a string with JSON.stringify()"
   ]
  },
  {
   "cell_type": "markdown",
   "metadata": {},
   "source": [
    "#### Example\n",
    "- const obj = {name: \"John\", age: 30, city: \"New York\"}\n",
    "\n",
    "- const myJSON =  JSON.stringify(obj)"
   ]
  }
 ],
 "metadata": {
  "interpreter": {
   "hash": "7e932dcf16f5e14e57fa773eff3ce53542d0b5ad5adca00e7b6047716d9e7d41"
  },
  "kernelspec": {
   "display_name": "Python 3.8.8 ('base')",
   "language": "python",
   "name": "python3"
  },
  "language_info": {
   "name": "python",
   "version": "3.8.8"
  },
  "orig_nbformat": 4
 },
 "nbformat": 4,
 "nbformat_minor": 2
}
